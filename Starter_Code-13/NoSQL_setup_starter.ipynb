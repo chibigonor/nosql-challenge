{
 "cells": [
  {
   "cell_type": "markdown",
   "id": "9a57c4c6",
   "metadata": {},
   "source": [
    "# Eat Safe, Love"
   ]
  },
  {
   "cell_type": "markdown",
   "id": "064ef857",
   "metadata": {},
   "source": [
    "## Part 1: Database and Jupyter Notebook Set Up"
   ]
  },
  {
   "cell_type": "markdown",
   "id": "664e3c1f",
   "metadata": {},
   "source": [
    "Import the data provided in the `establishments.json` file from your Terminal. Name the database `uk_food` and the collection `establishments`.\n",
    "\n",
    "Within this markdown cell, copy the line of text you used to import the data from your Terminal. This way, future analysts will be able to repeat your process.\n",
    "\n",
    "e.g.: Import the dataset with `YOUR IMPORT TEXT HERE`"
   ]
  },
  {
   "cell_type": "code",
   "execution_count": 1,
   "id": "3ecdd008",
   "metadata": {},
   "outputs": [],
   "source": [
    "# Import dependencies\n",
    "from pymongo import MongoClient\n",
    "from pprint import pprint"
   ]
  },
  {
   "cell_type": "code",
   "execution_count": 2,
   "id": "59390c4a",
   "metadata": {},
   "outputs": [],
   "source": [
    "# Create an instance of MongoClient\n",
    "mongo = MongoClient(port=27017)"
   ]
  },
  {
   "cell_type": "code",
   "execution_count": 3,
   "id": "7f9ececa",
   "metadata": {},
   "outputs": [
    {
     "name": "stdout",
     "output_type": "stream",
     "text": [
      "Databases: ['admin', 'config', 'local', 'met', 'travel_db', 'uk_food']\n"
     ]
    }
   ],
   "source": [
    "# confirm that our new database was created\n",
    "databases = mongo.list_database_names()\n",
    "print(\"Databases:\", databases)"
   ]
  },
  {
   "cell_type": "code",
   "execution_count": 4,
   "id": "71e373c1",
   "metadata": {},
   "outputs": [],
   "source": [
    "# assign the uk_food database to a variable name\n",
    "db = mongo['uk_food']"
   ]
  },
  {
   "cell_type": "code",
   "execution_count": 5,
   "id": "ef1b89ed",
   "metadata": {},
   "outputs": [
    {
     "name": "stdout",
     "output_type": "stream",
     "text": [
      "Collections in uk_food database: ['establishments']\n"
     ]
    }
   ],
   "source": [
    "# review the collections in our new database\n",
    "collections = db.list_collection_names()\n",
    "print(\"Collections in uk_food database:\", collections)"
   ]
  },
  {
   "cell_type": "code",
   "execution_count": 6,
   "id": "18ab463c",
   "metadata": {},
   "outputs": [
    {
     "name": "stdout",
     "output_type": "stream",
     "text": [
      "Collections in uk_food database: ['establishments']\n"
     ]
    }
   ],
   "source": [
    "# review the collections in our new database\n",
    "collections = db.list_collection_names()\n",
    "print(\"Collections in uk_food database:\", collections)\n"
   ]
  },
  {
   "cell_type": "code",
   "execution_count": 7,
   "id": "6a0d92df",
   "metadata": {},
   "outputs": [],
   "source": [
    "# review a document in the establishments collection\n",
    "collection = db['establishments']\n",
    "\n",
    "# Retrieve a single document from the establishments collection\n",
    "document = collection.find_one()"
   ]
  },
  {
   "cell_type": "code",
   "execution_count": 8,
   "id": "11c9f11b",
   "metadata": {},
   "outputs": [],
   "source": [
    "# assign the collection to a variable\n",
    "establishments = db['establishments']"
   ]
  },
  {
   "cell_type": "markdown",
   "id": "d5671434",
   "metadata": {},
   "source": [
    "## Part 2: Update the Database"
   ]
  },
  {
   "cell_type": "markdown",
   "id": "314bd884",
   "metadata": {},
   "source": [
    "1. An exciting new halal restaurant just opened in Greenwich, but hasn't been rated yet. The magazine has asked you to include it in your analysis. Add the following restaurant \"Penang Flavours\" to the database."
   ]
  },
  {
   "cell_type": "code",
   "execution_count": 37,
   "id": "c2da7648",
   "metadata": {},
   "outputs": [],
   "source": [
    "# Create a dictionary for the new restaurant data\n",
    "new_restaurant = {\n",
    "    \"BusinessName\":\"Penang Flavours\",\n",
    "    \"BusinessType\":\"Restaurant/Cafe/Canteen\",\n",
    "    \"BusinessTypeID\":\"\",\n",
    "    \"AddressLine1\":\"Penang Flavours\",\n",
    "    \"AddressLine2\":\"146A Plumstead Rd\",\n",
    "    \"AddressLine3\":\"London\",\n",
    "    \"AddressLine4\":\"\",\n",
    "    \"PostCode\":\"SE18 7DY\",\n",
    "    \"Phone\":\"\",\n",
    "    \"LocalAuthorityCode\":\"511\",\n",
    "    \"LocalAuthorityName\":\"Greenwich\",\n",
    "    \"LocalAuthorityWebSite\":\"http://www.royalgreenwich.gov.uk\",\n",
    "    \"LocalAuthorityEmailAddress\":\"health@royalgreenwich.gov.uk\",\n",
    "    \"scores\":{\n",
    "        \"Hygiene\":\"\",\n",
    "        \"Structural\":\"\",\n",
    "        \"ConfidenceInManagement\":\"\"\n",
    "    },\n",
    "    \"SchemeType\":\"FHRS\",\n",
    "    \"geocode\":{\n",
    "        \"longitude\":\"0.08384000\",\n",
    "        \"latitude\":\"51.49014200\"\n",
    "    },\n",
    "    \"RightToReply\":\"\",\n",
    "    \"Distance\":4623.9723280747176,\n",
    "    \"NewRatingPending\":True\n",
    "}\n",
    "\n"
   ]
  },
  {
   "cell_type": "markdown",
   "id": "0ef4395a",
   "metadata": {},
   "source": [
    "2. Find the BusinessTypeID for \"Restaurant/Cafe/Canteen\" and return only the `BusinessTypeID` and `BusinessType` fields."
   ]
  },
  {
   "cell_type": "code",
   "execution_count": 38,
   "id": "de6e4324",
   "metadata": {},
   "outputs": [
    {
     "name": "stdout",
     "output_type": "stream",
     "text": [
      "{'BusinessType': 'Restaurant/Cafe/Canteen', 'BusinessTypeID': ''}\n"
     ]
    }
   ],
   "source": [
    "# Define the query\n",
    "query = {\"BusinessType\": \"Restaurant/Cafe/Canteen\"}\n",
    "\n",
    "# Projection to return only BusinessTypeID and BusinessType fields\n",
    "projection = {\"_id\": 0, \"BusinessTypeID\": 1, \"BusinessType\": 1}\n",
    "\n",
    "# Execute the query\n",
    "result = collection.find_one(query, projection)\n",
    "\n",
    "# Print the result\n",
    "print(result)"
   ]
  },
  {
   "cell_type": "code",
   "execution_count": 39,
   "id": "a6e5cece",
   "metadata": {},
   "outputs": [
    {
     "name": "stdout",
     "output_type": "stream",
     "text": [
      "Inserted new restaurant with ID: 66527392dc034ad21a20d801\n"
     ]
    }
   ],
   "source": [
    "# Insert the new restaurant into the collection\n",
    "result = collection.insert_one(new_restaurant)\n",
    "print(\"Inserted new restaurant with ID:\", result.inserted_id)\n"
   ]
  },
  {
   "cell_type": "code",
   "execution_count": 40,
   "id": "63bb10f9",
   "metadata": {},
   "outputs": [
    {
     "name": "stdout",
     "output_type": "stream",
     "text": [
      "New restaurant found:\n",
      "{'AddressLine1': 'Penang Flavours',\n",
      " 'AddressLine2': '146A Plumstead Rd',\n",
      " 'AddressLine3': 'London',\n",
      " 'AddressLine4': '',\n",
      " 'BusinessName': 'Penang Flavours',\n",
      " 'BusinessType': 'Restaurant/Cafe/Canteen',\n",
      " 'BusinessTypeID': '',\n",
      " 'Distance': 4623.972328074718,\n",
      " 'LocalAuthorityCode': '511',\n",
      " 'LocalAuthorityEmailAddress': 'health@royalgreenwich.gov.uk',\n",
      " 'LocalAuthorityName': 'Greenwich',\n",
      " 'LocalAuthorityWebSite': 'http://www.royalgreenwich.gov.uk',\n",
      " 'NewRatingPending': True,\n",
      " 'Phone': '',\n",
      " 'PostCode': 'SE18 7DY',\n",
      " 'RightToReply': '',\n",
      " 'SchemeType': 'FHRS',\n",
      " '_id': ObjectId('66527392dc034ad21a20d801'),\n",
      " 'geocode': {'latitude': '51.49014200', 'longitude': '0.08384000'},\n",
      " 'scores': {'ConfidenceInManagement': '', 'Hygiene': '', 'Structural': ''}}\n"
     ]
    }
   ],
   "source": [
    "# Define the ID of the new restaurant\n",
    "restaurant_id = ObjectId(\"66527392dc034ad21a20d801\")\n",
    "\n",
    "# Find the new restaurant in the database\n",
    "new_restaurant = collection.find_one({\"_id\": restaurant_id})\n",
    "\n",
    "# Check if the new restaurant exists\n",
    "if new_restaurant:\n",
    "    print(\"New restaurant found:\")\n",
    "    pprint(new_restaurant)\n",
    "else:\n",
    "    print(\"New restaurant not found.\")"
   ]
  },
  {
   "cell_type": "code",
   "execution_count": 42,
   "id": "4acce23f",
   "metadata": {},
   "outputs": [
    {
     "name": "stdout",
     "output_type": "stream",
     "text": [
      "Number of documents in the establishments collection: 4\n"
     ]
    }
   ],
   "source": [
    "# Count the number of documents in the businesses collection\n",
    "num_documents = collection.count_documents({})\n",
    "\n",
    "# Print the result\n",
    "print(\"Number of documents in the establishments collection:\", num_documents)"
   ]
  },
  {
   "cell_type": "code",
   "execution_count": 43,
   "id": "ca8ca271",
   "metadata": {},
   "outputs": [
    {
     "name": "stdout",
     "output_type": "stream",
     "text": [
      "{'AddressLine1': 'Penang Flavours',\n",
      " 'AddressLine2': '146A Plumstead Rd',\n",
      " 'AddressLine3': 'London',\n",
      " 'AddressLine4': '',\n",
      " 'BusinessName': 'Penang Flavours',\n",
      " 'BusinessType': 'Restaurant/Cafe/Canteen',\n",
      " 'BusinessTypeID': '',\n",
      " 'Distance': 4623.972328074718,\n",
      " 'LocalAuthorityCode': '511',\n",
      " 'LocalAuthorityEmailAddress': 'health@royalgreenwich.gov.uk',\n",
      " 'LocalAuthorityName': 'Greenwich',\n",
      " 'LocalAuthorityWebSite': 'http://www.royalgreenwich.gov.uk',\n",
      " 'NewRatingPending': True,\n",
      " 'Phone': '',\n",
      " 'PostCode': 'SE18 7DY',\n",
      " 'RightToReply': '',\n",
      " 'SchemeType': 'FHRS',\n",
      " '_id': ObjectId('66526fbadc034ad21a20d800'),\n",
      " 'geocode': {'latitude': '51.49014200', 'longitude': '0.08384000'},\n",
      " 'scores': {'ConfidenceInManagement': '', 'Hygiene': '', 'Structural': ''}}\n",
      "{'AddressLine1': 'Penang Flavours',\n",
      " 'AddressLine2': '146A Plumstead Rd',\n",
      " 'AddressLine3': 'London',\n",
      " 'AddressLine4': '',\n",
      " 'BusinessName': 'Penang Flavours',\n",
      " 'BusinessType': 'Restaurant/Cafe/Canteen',\n",
      " 'BusinessTypeID': '',\n",
      " 'Distance': 4623.972328074718,\n",
      " 'LocalAuthorityCode': '511',\n",
      " 'LocalAuthorityEmailAddress': 'health@royalgreenwich.gov.uk',\n",
      " 'LocalAuthorityName': 'Greenwich',\n",
      " 'LocalAuthorityWebSite': 'http://www.royalgreenwich.gov.uk',\n",
      " 'NewRatingPending': True,\n",
      " 'Phone': '',\n",
      " 'PostCode': 'SE18 7DY',\n",
      " 'RightToReply': '',\n",
      " 'SchemeType': 'FHRS',\n",
      " '_id': ObjectId('66527392dc034ad21a20d801'),\n",
      " 'geocode': {'latitude': '51.49014200', 'longitude': '0.08384000'},\n",
      " 'scores': {'ConfidenceInManagement': '', 'Hygiene': '', 'Structural': ''}}\n"
     ]
    }
   ],
   "source": [
    "# Find all documents in the businesses collection with BusinessType\n",
    "query = {\"BusinessType\": \"Restaurant/Cafe/Canteen\"}\n",
    "\n",
    "# Find all documents in the establishments collection with BusinessType\n",
    "result = collection.find(query)\n",
    "\n",
    "# Print the documents\n",
    "for document in result:\n",
    "    pprint(document)"
   ]
  },
  {
   "cell_type": "markdown",
   "id": "4e570caf",
   "metadata": {},
   "source": [
    "3. Update the new restaurant with the `BusinessTypeID` you found."
   ]
  },
  {
   "cell_type": "code",
   "execution_count": 44,
   "id": "ab707df6",
   "metadata": {},
   "outputs": [
    {
     "name": "stdout",
     "output_type": "stream",
     "text": [
      "Inserted new restaurant with ID: 665274d4dc034ad21a20d803\n",
      "Latest inserted restaurant found:\n",
      "{'BusinessName': 'Penang Flavours',\n",
      " 'BusinessTypeID': None,\n",
      " '_id': ObjectId('665274d4dc034ad21a20d803'),\n",
      " 'address': {'city': 'Greenwich',\n",
      "             'postcode': '12345',\n",
      "             'street': '123 Main Street'},\n",
      " 'geocode': {'latitude': None, 'longitude': None},\n",
      " 'rating': None}\n",
      "New restaurant updated successfully.\n",
      "Updated restaurant document:\n",
      "{'BusinessName': 'Penang Flavours',\n",
      " 'BusinessTypeID': 1,\n",
      " '_id': ObjectId('665274d4dc034ad21a20d803'),\n",
      " 'address': {'city': 'Greenwich',\n",
      "             'postcode': '12345',\n",
      "             'street': '123 Main Street'},\n",
      " 'geocode': {'latitude': None, 'longitude': None},\n",
      " 'rating': None}\n"
     ]
    }
   ],
   "source": [
    "from pymongo import MongoClient\n",
    "from bson import ObjectId\n",
    "from pprint import pprint\n",
    "\n",
    "# Connect to MongoDB\n",
    "client = MongoClient('mongodb://localhost:27017/')\n",
    "db = client['your_database']\n",
    "collection = db['establishments']\n",
    "\n",
    "# Insert the new restaurant data\n",
    "new_restaurant = {\n",
    "    \"BusinessName\": \"Penang Flavours\",\n",
    "    \"address\": {\n",
    "        \"street\": \"123 Main Street\",\n",
    "        \"city\": \"Greenwich\",\n",
    "        \"postcode\": \"12345\"\n",
    "    },\n",
    "    \"rating\": None,  # Not rated yet\n",
    "    \"geocode\": {\n",
    "        \"latitude\": None,\n",
    "        \"longitude\": None\n",
    "    },\n",
    "    \"BusinessTypeID\": None  # Will be updated later\n",
    "}\n",
    "\n",
    "# Insert the new restaurant into the collection\n",
    "insert_result = collection.insert_one(new_restaurant)\n",
    "restaurant_id = insert_result.inserted_id\n",
    "print(\"Inserted new restaurant with ID:\", restaurant_id)\n",
    "\n",
    "# Verify the latest inserted restaurant\n",
    "latest_restaurant = collection.find_one({\"_id\": restaurant_id})\n",
    "\n",
    "if latest_restaurant:\n",
    "    print(\"Latest inserted restaurant found:\")\n",
    "    pprint(latest_restaurant)\n",
    "\n",
    "    # Update the new restaurant with the correct BusinessTypeID\n",
    "    business_type_id = 1  # Replace with the correct BusinessTypeID\n",
    "    update_result = collection.update_one(\n",
    "        {\"_id\": restaurant_id},\n",
    "        {\"$set\": {\"BusinessTypeID\": business_type_id}}\n",
    "    )\n",
    "\n",
    "    if update_result.modified_count > 0:\n",
    "        print(\"New restaurant updated successfully.\")\n",
    "        updated_restaurant = collection.find_one({\"_id\": restaurant_id})\n",
    "        print(\"Updated restaurant document:\")\n",
    "        pprint(updated_restaurant)\n",
    "    else:\n",
    "        print(\"Update failed.\")\n",
    "else:\n",
    "    print(\"Restaurant not found.\")\n"
   ]
  },
  {
   "cell_type": "code",
   "execution_count": 45,
   "id": "a56f041b",
   "metadata": {},
   "outputs": [
    {
     "name": "stdout",
     "output_type": "stream",
     "text": [
      "New restaurant updated successfully.\n"
     ]
    }
   ],
   "source": [
    "# Check if the restaurant exists in the database\n",
    "new_restaurant = db.establishments.find_one({\"BusinessName\": \"Penang Flavours\"})\n",
    "\n",
    "if new_restaurant:\n",
    "    # Retrieve the _id of the new restaurant document\n",
    "    restaurant_id = new_restaurant['_id']\n",
    "\n",
    "    # Update the new restaurant document with the correct BusinessTypeID\n",
    "    business_type_id = 1  # Replace with the correct BusinessTypeID\n",
    "    db.establishments.update_one({\"_id\": restaurant_id}, {\"$set\": {\"BusinessTypeID\": business_type_id}})\n",
    "\n",
    "    print(\"New restaurant updated successfully.\")\n",
    "else:\n",
    "    print(\"Restaurant 'Penang Flavours' not found.\")\n"
   ]
  },
  {
   "cell_type": "markdown",
   "id": "67281254",
   "metadata": {},
   "source": [
    "4. The magazine is not interested in any establishments in Dover, so check how many documents contain the Dover Local Authority. Then, remove any establishments within the Dover Local Authority from the database, and check the number of documents to ensure they were deleted."
   ]
  },
  {
   "cell_type": "code",
   "execution_count": 50,
   "id": "768474a6",
   "metadata": {},
   "outputs": [
    {
     "name": "stdout",
     "output_type": "stream",
     "text": [
      "No documents with LocalAuthorityName as 'Dover' found.\n"
     ]
    }
   ],
   "source": [
    "# Define the query to find documents with LocalAuthorityName as \"Dover\"\n",
    "query_dover = {\"LocalAuthorityName\": \"Dover\"}\n",
    "\n",
    "# Delete all documents where LocalAuthorityName is \"Dover\"\n",
    "result = collection.delete_many(query_dover)\n",
    "\n",
    "# Check if any documents were deleted\n",
    "if result.deleted_count > 0:\n",
    "    print(\"Documents with LocalAuthorityName as 'Dover' were successfully deleted.\")\n",
    "else:\n",
    "    print(\"No documents with LocalAuthorityName as 'Dover' found.\")\n"
   ]
  },
  {
   "cell_type": "code",
   "execution_count": 51,
   "id": "a11d5f1b",
   "metadata": {},
   "outputs": [
    {
     "name": "stdout",
     "output_type": "stream",
     "text": [
      "Number of documents deleted: 0\n"
     ]
    }
   ],
   "source": [
    "# Delete all documents where LocalAuthorityName is \"Dover\"\n",
    "delete_result = collection.delete_many({\"LocalAuthorityName\": \"Dover\"})\n",
    "print(\"Number of documents deleted:\", delete_result.deleted_count)"
   ]
  },
  {
   "cell_type": "code",
   "execution_count": null,
   "id": "2a51aba0",
   "metadata": {},
   "outputs": [],
   "source": [
    "# Check if any remaining documents include Dover\n"
   ]
  },
  {
   "cell_type": "code",
   "execution_count": null,
   "id": "8c356f7b",
   "metadata": {},
   "outputs": [],
   "source": [
    "# Check that other documents remain with 'find_one'\n"
   ]
  },
  {
   "attachments": {},
   "cell_type": "markdown",
   "id": "e9f1662d",
   "metadata": {},
   "source": [
    "5. Some of the number values are stored as strings, when they should be stored as numbers."
   ]
  },
  {
   "attachments": {},
   "cell_type": "markdown",
   "id": "c46df2df",
   "metadata": {},
   "source": [
    "Use `update_many` to convert `latitude` and `longitude` to decimal numbers."
   ]
  },
  {
   "cell_type": "code",
   "execution_count": null,
   "id": "fd4112ce",
   "metadata": {},
   "outputs": [],
   "source": [
    "# Change the data type from String to Decimal for longitude and latitude\n"
   ]
  },
  {
   "attachments": {},
   "cell_type": "markdown",
   "id": "142e319c",
   "metadata": {},
   "source": [
    "Use `update_many` to convert `RatingValue` to integer numbers."
   ]
  },
  {
   "cell_type": "code",
   "execution_count": null,
   "id": "04430a5b",
   "metadata": {},
   "outputs": [],
   "source": [
    "# Set non 1-5 Rating Values to Null\n",
    "non_ratings = [\"AwaitingInspection\", \"Awaiting Inspection\", \"AwaitingPublication\", \"Pass\", \"Exempt\"]\n",
    "establishments.update_many({\"RatingValue\": {\"$in\": non_ratings}}, [ {'$set':{ \"RatingValue\" : None}} ])"
   ]
  },
  {
   "cell_type": "code",
   "execution_count": null,
   "id": "92524ccc",
   "metadata": {},
   "outputs": [],
   "source": [
    "# Change the data type from String to Integer for RatingValue\n"
   ]
  },
  {
   "cell_type": "code",
   "execution_count": null,
   "id": "0deacaf9",
   "metadata": {},
   "outputs": [],
   "source": [
    "# Check that the coordinates and rating value are now numbers\n"
   ]
  }
 ],
 "metadata": {
  "kernelspec": {
   "display_name": "Python 3 (ipykernel)",
   "language": "python",
   "name": "python3"
  },
  "language_info": {
   "codemirror_mode": {
    "name": "ipython",
    "version": 3
   },
   "file_extension": ".py",
   "mimetype": "text/x-python",
   "name": "python",
   "nbconvert_exporter": "python",
   "pygments_lexer": "ipython3",
   "version": "3.12.2"
  }
 },
 "nbformat": 4,
 "nbformat_minor": 5
}
